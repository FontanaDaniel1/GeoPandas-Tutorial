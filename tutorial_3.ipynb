{
  "nbformat": 4,
  "nbformat_minor": 0,
  "metadata": {
    "colab": {
      "provenance": [],
      "include_colab_link": true
    },
    "kernelspec": {
      "name": "python3",
      "display_name": "Python 3"
    },
    "language_info": {
      "name": "python"
    }
  },
  "cells": [
    {
      "cell_type": "markdown",
      "metadata": {
        "id": "view-in-github",
        "colab_type": "text"
      },
      "source": [
        "<a href=\"https://colab.research.google.com/github/FontanaDaniel1/GeoPandas-Tutorial/blob/main/tutorial_3.ipynb\" target=\"_parent\"><img src=\"https://colab.research.google.com/assets/colab-badge.svg\" alt=\"Open In Colab\"/></a>"
      ]
    },
    {
      "cell_type": "code",
      "execution_count": null,
      "metadata": {
        "id": "yG1alZ3gK05u"
      },
      "outputs": [],
      "source": [
        "!pip install geopandas"
      ]
    },
    {
      "cell_type": "code",
      "source": [
        "!pip install contextily\n",
        "import contextily"
      ],
      "metadata": {
        "id": "LAb0av80LLRS"
      },
      "execution_count": null,
      "outputs": []
    },
    {
      "cell_type": "code",
      "source": [
        "import pandas as pd\n",
        "import geopandas\n",
        "import matplotlib.pyplot as plt"
      ],
      "metadata": {
        "id": "ryu_yRQmLI5T"
      },
      "execution_count": null,
      "outputs": []
    },
    {
      "cell_type": "code",
      "source": [
        "countries = geopandas.read_file(\"https://github.com/jorisvandenbossche/geopandas-tutorial/blob/main/data/ne_110m_admin_0_countries.zip?raw=true\")\n",
        "cities = geopandas.read_file(\"https://github.com/jorisvandenbossche/geopandas-tutorial/blob/main/data/ne_110m_populated_places.zip?raw=true\")\n",
        "rivers = geopandas.read_file(\"https://github.com/jorisvandenbossche/geopandas-tutorial/blob/main/data/ne_50m_rivers_lake_centerlines.zip?raw=true\")"
      ],
      "metadata": {
        "id": "ZNAwNbJ7LuFT"
      },
      "execution_count": null,
      "outputs": []
    },
    {
      "cell_type": "code",
      "source": [
        "countries.plot(figsize=(12,12))"
      ],
      "metadata": {
        "id": "j0QiCFayMlZ0"
      },
      "execution_count": null,
      "outputs": []
    },
    {
      "cell_type": "code",
      "source": [
        "cities.plot(figsize=(12,12), markersize=9)"
      ],
      "metadata": {
        "id": "lfEhaSTtMq7z"
      },
      "execution_count": null,
      "outputs": []
    },
    {
      "cell_type": "code",
      "source": [
        "#mettere sia le citta che le coutries (una sopra l'altra)\n",
        "ax = countries.plot(figsize=(12,12))\n",
        "cities.plot(ax=ax,color = \"Red\",markersize = 5)"
      ],
      "metadata": {
        "id": "u78WpCIRM3Rz"
      },
      "execution_count": null,
      "outputs": []
    },
    {
      "cell_type": "code",
      "source": [
        "#item serve per estrarre l'oggetto da geopandas\n",
        "belgium = countries.loc[countries['name'] == 'Belgium', 'geometry'].item()\n",
        "belgium"
      ],
      "metadata": {
        "id": "qemddx38N2gr"
      },
      "execution_count": null,
      "outputs": []
    },
    {
      "cell_type": "code",
      "source": [
        "france = countries.loc[countries['name'] == 'France', 'geometry'].item()\n",
        "france"
      ],
      "metadata": {
        "id": "JrfSHlkIPWLr"
      },
      "execution_count": null,
      "outputs": []
    },
    {
      "cell_type": "code",
      "source": [
        "#estrae un oggetto(città)\n",
        "paris = cities.loc[cities['name'] == 'Paris', 'geometry'].item()\n",
        "brussels = cities.loc[cities['name'] == 'Brussels', 'geometry'].item()"
      ],
      "metadata": {
        "id": "0ocu3xDbOCpy"
      },
      "execution_count": null,
      "outputs": []
    },
    {
      "cell_type": "code",
      "source": [
        "paris"
      ],
      "metadata": {
        "id": "TdpaV_zOOLRT"
      },
      "execution_count": null,
      "outputs": []
    },
    {
      "cell_type": "code",
      "source": [
        "brussels"
      ],
      "metadata": {
        "id": "kPNKNbf_OMGL"
      },
      "execution_count": null,
      "outputs": []
    },
    {
      "cell_type": "code",
      "source": [
        "#mostra la line che c'è tra prigi e bruxel\n",
        "from shapely.geometry import LineString\n",
        "line = LineString([paris, brussels])\n",
        "line"
      ],
      "metadata": {
        "id": "AXTSrmziOokT"
      },
      "execution_count": null,
      "outputs": []
    },
    {
      "cell_type": "code",
      "source": [
        "#controllare quanto un alinea è lunga\n",
        "line.length"
      ],
      "metadata": {
        "id": "C7jW_3jcWrfM"
      },
      "execution_count": null,
      "outputs": []
    },
    {
      "cell_type": "code",
      "source": [
        "geopandas.GeoSeries([belgium, paris, brussels, line]).plot(cmap='tab10')"
      ],
      "metadata": {
        "id": "uhFL8g2WP5C0"
      },
      "execution_count": null,
      "outputs": []
    },
    {
      "cell_type": "code",
      "source": [
        "#colega due città (parigi,bruxel)\n",
        "geopandas.GeoSeries([belgium,france, paris, brussels, line]).plot(cmap='tab10',figsize=(30,30))"
      ],
      "metadata": {
        "id": "-vbL6uFSPLsi"
      },
      "execution_count": null,
      "outputs": []
    },
    {
      "cell_type": "code",
      "source": [
        "#controlla se bruxel è contenuta nel belsio\n",
        "brussels.within(belgium)"
      ],
      "metadata": {
        "id": "DVWkAdSiQRU6"
      },
      "execution_count": null,
      "outputs": []
    },
    {
      "cell_type": "code",
      "source": [
        "#controlla se il belgio contiene Bruxel\n",
        "belgium.contains(brussels)"
      ],
      "metadata": {
        "id": "qa4JCcldQX7U"
      },
      "execution_count": null,
      "outputs": []
    },
    {
      "cell_type": "code",
      "source": [
        "belgium.contains(paris)"
      ],
      "metadata": {
        "colab": {
          "base_uri": "https://localhost:8080/"
        },
        "id": "IcTdY4dyQr1z",
        "outputId": "57b44adc-8521-4d17-f080-05e2ce35d420"
      },
      "execution_count": null,
      "outputs": [
        {
          "output_type": "execute_result",
          "data": {
            "text/plain": [
              "False"
            ]
          },
          "metadata": {},
          "execution_count": 30
        }
      ]
    },
    {
      "cell_type": "code",
      "source": [
        "paris.within(belgium)"
      ],
      "metadata": {
        "colab": {
          "base_uri": "https://localhost:8080/"
        },
        "id": "ZCW9xn9sWhSc",
        "outputId": "86f07508-d8f8-4190-b9f0-ef05dac7d185"
      },
      "execution_count": null,
      "outputs": [
        {
          "output_type": "execute_result",
          "data": {
            "text/plain": [
              "False"
            ]
          },
          "metadata": {},
          "execution_count": 31
        }
      ]
    },
    {
      "cell_type": "code",
      "source": [
        "#perche non la contiene del tutto\n",
        "belgium.contains(line)"
      ],
      "metadata": {
        "colab": {
          "base_uri": "https://localhost:8080/"
        },
        "id": "YAZxZOOtWjQb",
        "outputId": "87c22972-7e42-43c6-fa83-ffec8650a0c6"
      },
      "execution_count": null,
      "outputs": [
        {
          "output_type": "execute_result",
          "data": {
            "text/plain": [
              "False"
            ]
          },
          "metadata": {},
          "execution_count": 64
        }
      ]
    },
    {
      "cell_type": "code",
      "source": [
        "#parzialemnte lo contiene\n",
        "line.intersects(belgium)"
      ],
      "metadata": {
        "colab": {
          "base_uri": "https://localhost:8080/"
        },
        "id": "XNFX-a1bYIFu",
        "outputId": "65af74f8-3baf-41ab-9f14-e3bb2307e181"
      },
      "execution_count": null,
      "outputs": [
        {
          "output_type": "execute_result",
          "data": {
            "text/plain": [
              "True"
            ]
          },
          "metadata": {},
          "execution_count": 63
        }
      ]
    },
    {
      "cell_type": "code",
      "source": [
        "#mostra lo stato che contiene parigi\n",
        "countries[countries.contains(paris)]"
      ],
      "metadata": {
        "colab": {
          "base_uri": "https://localhost:8080/",
          "height": 81
        },
        "id": "7L2IO198YUoj",
        "outputId": "0c4c6d12-a6e5-4dfe-fd62-83043895cf3e"
      },
      "execution_count": null,
      "outputs": [
        {
          "output_type": "execute_result",
          "data": {
            "text/plain": [
              "   iso_a3    name continent     pop_est  gdp_md_est  \\\n",
              "55    FRA  France    Europe  67106161.0   2699000.0   \n",
              "\n",
              "                                             geometry  \n",
              "55  MULTIPOLYGON (((2.51357 51.14851, 2.65842 50.7...  "
            ],
            "text/html": [
              "\n",
              "  <div id=\"df-48719966-c51f-451f-b78a-83cd9561db31\">\n",
              "    <div class=\"colab-df-container\">\n",
              "      <div>\n",
              "<style scoped>\n",
              "    .dataframe tbody tr th:only-of-type {\n",
              "        vertical-align: middle;\n",
              "    }\n",
              "\n",
              "    .dataframe tbody tr th {\n",
              "        vertical-align: top;\n",
              "    }\n",
              "\n",
              "    .dataframe thead th {\n",
              "        text-align: right;\n",
              "    }\n",
              "</style>\n",
              "<table border=\"1\" class=\"dataframe\">\n",
              "  <thead>\n",
              "    <tr style=\"text-align: right;\">\n",
              "      <th></th>\n",
              "      <th>iso_a3</th>\n",
              "      <th>name</th>\n",
              "      <th>continent</th>\n",
              "      <th>pop_est</th>\n",
              "      <th>gdp_md_est</th>\n",
              "      <th>geometry</th>\n",
              "    </tr>\n",
              "  </thead>\n",
              "  <tbody>\n",
              "    <tr>\n",
              "      <th>55</th>\n",
              "      <td>FRA</td>\n",
              "      <td>France</td>\n",
              "      <td>Europe</td>\n",
              "      <td>67106161.0</td>\n",
              "      <td>2699000.0</td>\n",
              "      <td>MULTIPOLYGON (((2.51357 51.14851, 2.65842 50.7...</td>\n",
              "    </tr>\n",
              "  </tbody>\n",
              "</table>\n",
              "</div>\n",
              "      <button class=\"colab-df-convert\" onclick=\"convertToInteractive('df-48719966-c51f-451f-b78a-83cd9561db31')\"\n",
              "              title=\"Convert this dataframe to an interactive table.\"\n",
              "              style=\"display:none;\">\n",
              "        \n",
              "  <svg xmlns=\"http://www.w3.org/2000/svg\" height=\"24px\"viewBox=\"0 0 24 24\"\n",
              "       width=\"24px\">\n",
              "    <path d=\"M0 0h24v24H0V0z\" fill=\"none\"/>\n",
              "    <path d=\"M18.56 5.44l.94 2.06.94-2.06 2.06-.94-2.06-.94-.94-2.06-.94 2.06-2.06.94zm-11 1L8.5 8.5l.94-2.06 2.06-.94-2.06-.94L8.5 2.5l-.94 2.06-2.06.94zm10 10l.94 2.06.94-2.06 2.06-.94-2.06-.94-.94-2.06-.94 2.06-2.06.94z\"/><path d=\"M17.41 7.96l-1.37-1.37c-.4-.4-.92-.59-1.43-.59-.52 0-1.04.2-1.43.59L10.3 9.45l-7.72 7.72c-.78.78-.78 2.05 0 2.83L4 21.41c.39.39.9.59 1.41.59.51 0 1.02-.2 1.41-.59l7.78-7.78 2.81-2.81c.8-.78.8-2.07 0-2.86zM5.41 20L4 18.59l7.72-7.72 1.47 1.35L5.41 20z\"/>\n",
              "  </svg>\n",
              "      </button>\n",
              "      \n",
              "  <style>\n",
              "    .colab-df-container {\n",
              "      display:flex;\n",
              "      flex-wrap:wrap;\n",
              "      gap: 12px;\n",
              "    }\n",
              "\n",
              "    .colab-df-convert {\n",
              "      background-color: #E8F0FE;\n",
              "      border: none;\n",
              "      border-radius: 50%;\n",
              "      cursor: pointer;\n",
              "      display: none;\n",
              "      fill: #1967D2;\n",
              "      height: 32px;\n",
              "      padding: 0 0 0 0;\n",
              "      width: 32px;\n",
              "    }\n",
              "\n",
              "    .colab-df-convert:hover {\n",
              "      background-color: #E2EBFA;\n",
              "      box-shadow: 0px 1px 2px rgba(60, 64, 67, 0.3), 0px 1px 3px 1px rgba(60, 64, 67, 0.15);\n",
              "      fill: #174EA6;\n",
              "    }\n",
              "\n",
              "    [theme=dark] .colab-df-convert {\n",
              "      background-color: #3B4455;\n",
              "      fill: #D2E3FC;\n",
              "    }\n",
              "\n",
              "    [theme=dark] .colab-df-convert:hover {\n",
              "      background-color: #434B5C;\n",
              "      box-shadow: 0px 1px 3px 1px rgba(0, 0, 0, 0.15);\n",
              "      filter: drop-shadow(0px 1px 2px rgba(0, 0, 0, 0.3));\n",
              "      fill: #FFFFFF;\n",
              "    }\n",
              "  </style>\n",
              "\n",
              "      <script>\n",
              "        const buttonEl =\n",
              "          document.querySelector('#df-48719966-c51f-451f-b78a-83cd9561db31 button.colab-df-convert');\n",
              "        buttonEl.style.display =\n",
              "          google.colab.kernel.accessAllowed ? 'block' : 'none';\n",
              "\n",
              "        async function convertToInteractive(key) {\n",
              "          const element = document.querySelector('#df-48719966-c51f-451f-b78a-83cd9561db31');\n",
              "          const dataTable =\n",
              "            await google.colab.kernel.invokeFunction('convertToInteractive',\n",
              "                                                     [key], {});\n",
              "          if (!dataTable) return;\n",
              "\n",
              "          const docLinkHtml = 'Like what you see? Visit the ' +\n",
              "            '<a target=\"_blank\" href=https://colab.research.google.com/notebooks/data_table.ipynb>data table notebook</a>'\n",
              "            + ' to learn more about interactive tables.';\n",
              "          element.innerHTML = '';\n",
              "          dataTable['output_type'] = 'display_data';\n",
              "          await google.colab.output.renderOutput(dataTable, element);\n",
              "          const docLink = document.createElement('div');\n",
              "          docLink.innerHTML = docLinkHtml;\n",
              "          element.appendChild(docLink);\n",
              "        }\n",
              "      </script>\n",
              "    </div>\n",
              "  </div>\n",
              "  "
            ]
          },
          "metadata": {},
          "execution_count": 62
        }
      ]
    },
    {
      "cell_type": "code",
      "source": [
        "#tutte le città di italia\n",
        "italy = countries.loc[countries['name'] == 'Italy', 'geometry'].item()\n",
        "italy"
      ],
      "metadata": {
        "colab": {
          "base_uri": "https://localhost:8080/",
          "height": 121
        },
        "id": "ZJqMnI7vZTN3",
        "outputId": "178b6e57-e706-4189-a34a-243b243cda17"
      },
      "execution_count": null,
      "outputs": [
        {
          "output_type": "execute_result",
          "data": {
            "text/plain": [
              "<MULTIPOLYGON (((10.443 46.894, 11.049 46.751, 11.165 46.942, 12.153 47.115,...>"
            ],
            "image/svg+xml": "<svg xmlns=\"http://www.w3.org/2000/svg\" xmlns:xlink=\"http://www.w3.org/1999/xlink\" width=\"100.0\" height=\"100.0\" viewBox=\"6.280743605177903 36.15077562107167 12.668715087941308 11.433829223678543\" preserveAspectRatio=\"xMinYMin meet\"><g transform=\"matrix(1,0,0,-1,0,83.73538046582189)\"><g><path fill-rule=\"evenodd\" fill=\"#66cc99\" stroke=\"#555555\" stroke-width=\"0.25337430175882614\" opacity=\"0.6\" d=\"M 10.44270145024663,46.89354625099743 L 11.048555942436536,46.75135854754634 L 11.16482791509327,46.94157949481273 L 12.153088006243024,47.115393174826465 L 12.376485223040788,46.76755910906982 L 13.806475457421527,46.509306138691215 L 13.698109978905478,46.01677806251735 L 13.937630242578308,45.59101593686469 L 13.141606479554326,45.736691799495446 L 12.32858117030625,45.38177806251488 L 12.383874952858548,44.88537425391911 L 12.261453484759102,44.60048208269404 L 12.589237094786512,44.091365871754476 L 13.526905958722551,43.587727362637935 L 14.029820997787056,42.76100779883251 L 15.142569614327925,41.95513967545685 L 15.926191033601924,41.961315009115765 L 16.169897088290384,41.74029490820337 L 15.889345737377823,41.54108226171823 L 16.785001661860605,41.179605617836614 L 17.519168735431236,40.877143459632265 L 18.37668745288252,40.35562490494266 L 18.48024702319546,40.168866278639854 L 18.29338504402807,39.81077444107328 L 17.738380161213342,40.27767100683033 L 16.869595981522366,40.442234605463796 L 16.44874311693738,39.795400702466424 L 17.17148969897147,39.42469981542067 L 17.05284061042937,38.902871202137334 L 16.635088331781787,38.84357249608243 L 16.100960727613028,37.98589874933421 L 15.68408694831453,37.90884918878706 L 15.687962680736376,38.21459280044189 L 15.891981235424737,38.750942491199254 L 16.109332309644344,38.96454702407772 L 15.718813510814613,39.54407237401497 L 15.41361250169885,40.0483568385352 L 14.99849572109818,40.17294871679084 L 14.703268263414714,40.60455027929265 L 14.060671827865292,40.786347968095384 L 13.627985060285425,41.18828725846157 L 12.888081902730391,41.253089504555646 L 12.106682570044967,41.704534817057436 L 11.191906365614244,42.355425319989706 L 10.51194786951774,42.93146251074725 L 10.200028924203991,43.92000682227456 L 9.70248823409787,44.03627879493135 L 8.8889461605269,44.36633616797957 L 8.428560825238606,44.231228135752445 L 7.850766635783174,43.76714793555527 L 7.435184767291901,43.69384491634921 L 7.549596388386135,44.127901109384766 L 7.007562290076606,44.25476675066142 L 6.749955275101655,45.028517971367535 L 7.096652459347865,45.3330988632959 L 6.802355177445605,45.70857982032871 L 6.843592970414505,45.99114655210061 L 7.2738509456766565,45.776947740250776 L 7.7559920589598335,45.82449005795931 L 8.31662967289438,46.16364248309086 L 8.489952426801324,46.005150865251686 L 8.966305779667778,46.03693187111119 L 9.182881707403055,46.44021474871698 L 9.922836541390382,46.31489940040919 L 10.363378126678612,46.48357127540986 L 10.44270145024663,46.89354625099743 z\" /><path fill-rule=\"evenodd\" fill=\"#66cc99\" stroke=\"#555555\" stroke-width=\"0.25337430175882614\" opacity=\"0.6\" d=\"M 15.520376010813806,38.2311550969915 L 15.160242954171764,37.44404551853776 L 15.309897902089062,37.13421946873183 L 15.099988234119479,36.619987290995425 L 14.33522871263196,36.996630967754754 L 13.826732618879987,37.10453135838014 L 12.431003859108756,37.612949937483734 L 12.570943637755192,38.12638113051963 L 13.741156447004641,38.034965521795385 L 14.761249220446217,38.14387360285045 L 15.520376010813806,38.2311550969915 z\" /><path fill-rule=\"evenodd\" fill=\"#66cc99\" stroke=\"#555555\" stroke-width=\"0.25337430175882614\" opacity=\"0.6\" d=\"M 9.210011834356322,41.20999136002425 L 9.809975213264948,40.50000885676613 L 9.669518670295616,39.17737641047182 L 9.214817742559461,39.24047333430016 L 8.806935662479674,38.906617743478506 L 8.428302443077172,39.17184703221656 L 8.388253208050884,40.378310858718805 L 8.159998406617717,40.95000722916373 L 8.709990675500165,40.89998444270526 L 9.210011834356322,41.20999136002425 z\" /></g></g></svg>"
          },
          "metadata": {},
          "execution_count": 61
        }
      ]
    },
    {
      "cell_type": "code",
      "source": [
        "cities[cities.within(italy)]"
      ],
      "metadata": {
        "colab": {
          "base_uri": "https://localhost:8080/",
          "height": 143
        },
        "id": "lXvIOUU7Ylzb",
        "outputId": "03638f30-6b5c-4f8e-eecf-338843732304"
      },
      "execution_count": null,
      "outputs": [
        {
          "output_type": "execute_result",
          "data": {
            "text/plain": [
              "             name                   geometry\n",
              "0    Vatican City  POINT (12.45339 41.90328)\n",
              "1      San Marino  POINT (12.44177 43.93610)\n",
              "226          Rome  POINT (12.48131 41.89790)"
            ],
            "text/html": [
              "\n",
              "  <div id=\"df-c439f1b2-67a1-43f5-982f-07a766fd6194\">\n",
              "    <div class=\"colab-df-container\">\n",
              "      <div>\n",
              "<style scoped>\n",
              "    .dataframe tbody tr th:only-of-type {\n",
              "        vertical-align: middle;\n",
              "    }\n",
              "\n",
              "    .dataframe tbody tr th {\n",
              "        vertical-align: top;\n",
              "    }\n",
              "\n",
              "    .dataframe thead th {\n",
              "        text-align: right;\n",
              "    }\n",
              "</style>\n",
              "<table border=\"1\" class=\"dataframe\">\n",
              "  <thead>\n",
              "    <tr style=\"text-align: right;\">\n",
              "      <th></th>\n",
              "      <th>name</th>\n",
              "      <th>geometry</th>\n",
              "    </tr>\n",
              "  </thead>\n",
              "  <tbody>\n",
              "    <tr>\n",
              "      <th>0</th>\n",
              "      <td>Vatican City</td>\n",
              "      <td>POINT (12.45339 41.90328)</td>\n",
              "    </tr>\n",
              "    <tr>\n",
              "      <th>1</th>\n",
              "      <td>San Marino</td>\n",
              "      <td>POINT (12.44177 43.93610)</td>\n",
              "    </tr>\n",
              "    <tr>\n",
              "      <th>226</th>\n",
              "      <td>Rome</td>\n",
              "      <td>POINT (12.48131 41.89790)</td>\n",
              "    </tr>\n",
              "  </tbody>\n",
              "</table>\n",
              "</div>\n",
              "      <button class=\"colab-df-convert\" onclick=\"convertToInteractive('df-c439f1b2-67a1-43f5-982f-07a766fd6194')\"\n",
              "              title=\"Convert this dataframe to an interactive table.\"\n",
              "              style=\"display:none;\">\n",
              "        \n",
              "  <svg xmlns=\"http://www.w3.org/2000/svg\" height=\"24px\"viewBox=\"0 0 24 24\"\n",
              "       width=\"24px\">\n",
              "    <path d=\"M0 0h24v24H0V0z\" fill=\"none\"/>\n",
              "    <path d=\"M18.56 5.44l.94 2.06.94-2.06 2.06-.94-2.06-.94-.94-2.06-.94 2.06-2.06.94zm-11 1L8.5 8.5l.94-2.06 2.06-.94-2.06-.94L8.5 2.5l-.94 2.06-2.06.94zm10 10l.94 2.06.94-2.06 2.06-.94-2.06-.94-.94-2.06-.94 2.06-2.06.94z\"/><path d=\"M17.41 7.96l-1.37-1.37c-.4-.4-.92-.59-1.43-.59-.52 0-1.04.2-1.43.59L10.3 9.45l-7.72 7.72c-.78.78-.78 2.05 0 2.83L4 21.41c.39.39.9.59 1.41.59.51 0 1.02-.2 1.41-.59l7.78-7.78 2.81-2.81c.8-.78.8-2.07 0-2.86zM5.41 20L4 18.59l7.72-7.72 1.47 1.35L5.41 20z\"/>\n",
              "  </svg>\n",
              "      </button>\n",
              "      \n",
              "  <style>\n",
              "    .colab-df-container {\n",
              "      display:flex;\n",
              "      flex-wrap:wrap;\n",
              "      gap: 12px;\n",
              "    }\n",
              "\n",
              "    .colab-df-convert {\n",
              "      background-color: #E8F0FE;\n",
              "      border: none;\n",
              "      border-radius: 50%;\n",
              "      cursor: pointer;\n",
              "      display: none;\n",
              "      fill: #1967D2;\n",
              "      height: 32px;\n",
              "      padding: 0 0 0 0;\n",
              "      width: 32px;\n",
              "    }\n",
              "\n",
              "    .colab-df-convert:hover {\n",
              "      background-color: #E2EBFA;\n",
              "      box-shadow: 0px 1px 2px rgba(60, 64, 67, 0.3), 0px 1px 3px 1px rgba(60, 64, 67, 0.15);\n",
              "      fill: #174EA6;\n",
              "    }\n",
              "\n",
              "    [theme=dark] .colab-df-convert {\n",
              "      background-color: #3B4455;\n",
              "      fill: #D2E3FC;\n",
              "    }\n",
              "\n",
              "    [theme=dark] .colab-df-convert:hover {\n",
              "      background-color: #434B5C;\n",
              "      box-shadow: 0px 1px 3px 1px rgba(0, 0, 0, 0.15);\n",
              "      filter: drop-shadow(0px 1px 2px rgba(0, 0, 0, 0.3));\n",
              "      fill: #FFFFFF;\n",
              "    }\n",
              "  </style>\n",
              "\n",
              "      <script>\n",
              "        const buttonEl =\n",
              "          document.querySelector('#df-c439f1b2-67a1-43f5-982f-07a766fd6194 button.colab-df-convert');\n",
              "        buttonEl.style.display =\n",
              "          google.colab.kernel.accessAllowed ? 'block' : 'none';\n",
              "\n",
              "        async function convertToInteractive(key) {\n",
              "          const element = document.querySelector('#df-c439f1b2-67a1-43f5-982f-07a766fd6194');\n",
              "          const dataTable =\n",
              "            await google.colab.kernel.invokeFunction('convertToInteractive',\n",
              "                                                     [key], {});\n",
              "          if (!dataTable) return;\n",
              "\n",
              "          const docLinkHtml = 'Like what you see? Visit the ' +\n",
              "            '<a target=\"_blank\" href=https://colab.research.google.com/notebooks/data_table.ipynb>data table notebook</a>'\n",
              "            + ' to learn more about interactive tables.';\n",
              "          element.innerHTML = '';\n",
              "          dataTable['output_type'] = 'display_data';\n",
              "          await google.colab.output.renderOutput(dataTable, element);\n",
              "          const docLink = document.createElement('div');\n",
              "          docLink.innerHTML = docLinkHtml;\n",
              "          element.appendChild(docLink);\n",
              "        }\n",
              "      </script>\n",
              "    </div>\n",
              "  </div>\n",
              "  "
            ]
          },
          "metadata": {},
          "execution_count": 60
        }
      ]
    },
    {
      "cell_type": "code",
      "source": [
        "amazon = rivers[rivers['name'] == 'Amazonas'].geometry.item()\n",
        "amazon"
      ],
      "metadata": {
        "colab": {
          "base_uri": "https://localhost:8080/",
          "height": 121
        },
        "id": "NGB1h7s7ZpP8",
        "outputId": "500c6206-a74e-4c95-ea70-d9b8044f440d"
      },
      "execution_count": null,
      "outputs": [
        {
          "output_type": "execute_result",
          "data": {
            "text/plain": [
              "<LINESTRING (-52.664 -1.552, -52.874 -1.611, -53 -1.668, -53.145 -1.764, -53...>"
            ],
            "image/svg+xml": "<svg xmlns=\"http://www.w3.org/2000/svg\" xmlns:xlink=\"http://www.w3.org/1999/xlink\" width=\"100.0\" height=\"100.0\" viewBox=\"-74.3216140366704 -5.277823272138241 22.490422558678098 4.559010611774324\" preserveAspectRatio=\"xMinYMin meet\"><g transform=\"matrix(1,0,0,-1,0,-5.9966359325021585)\"><polyline fill=\"none\" stroke=\"#66cc99\" stroke-width=\"0.44980845117356194\" points=\"-52.664170091276674,-1.5517912736482913 -52.873614671180064,-1.6111158177407674 -52.99998938630108,-1.668063245922042 -53.14489010229636,-1.7638713518813347 -53.35784868057209,-1.8383887674276025 -53.63886511932975,-1.891512139773397 -53.84329708499246,-1.9581230603309336 -53.97106706409369,-2.038273206842973 -54.04468014207487,-2.141212660535814 -54.06416215645834,-2.2670447732975845 -54.1866869773221,-2.357530205754358 -54.467651740135636,-2.4402124978084885 -54.52511593315376,-2.4403158505959937 -54.56413163876408,-2.440522556171004 -54.639010789516306,-2.4193352185454273 -54.676191982473995,-2.3592872049405287 -54.67456417539631,-2.253350518611512 -54.69381364578311,-2.1841040988250597 -54.73391455791045,-2.1516512992679964 -54.793523321943724,-2.1198186173352838 -54.87258826373733,-2.0886060521275454 -54.95663998045069,-2.1042123347314146 -55.045626797039006,-2.1667408179343397 -55.14972896981607,-2.180280042989523 -55.268998175625256,-2.1448300107963405 -55.375167405951004,-2.082714938743379 -55.45808224110249,-1.986803480895901 -55.51484880213047,-1.949493096728986 -55.55482052304865,-1.9239649393304603 -55.605850999424035,-1.9183838843087528 -55.66936133455789,-1.9265487608166154 -55.73571387359635,-1.963549085721695 -55.83971269358591,-1.989955743162966 -55.98133195700416,-2.0056653785543404 -56.129462449632285,-2.079511000532193 -56.28407833484721,-2.2115959609847664 -56.40086707195775,-2.336291192184717 -56.4797253081764,-2.4535966932327824 -56.54850663907007,-2.5269255512731092 -56.607185228015794,-2.556381117294677 -56.67625077974964,-2.5746745741722066 -56.7557808095367,-2.582012627480708 -56.847351446711855,-2.566509697664344 -56.951014369917175,-2.528165785622434 -57.04966467978113,-2.5231531713816935 -57.14327653698257,-2.5514201798973204 -57.244381476224135,-2.5264087864363205 -57.35300533682681,-2.448274020629526 -57.44002844955327,-2.4046591119284244 -57.505502488548984,-2.3956674131205773 -57.60539303276221,-2.4813469378108834 -57.73975175633842,-2.6618010396861678 -57.88284379720346,-2.7839641253440846 -58.03466915535722,-2.8476294901088295 -58.134973110720466,-2.958630466622708 -58.18365230960637,-3.116863702098101 -58.234992845243596,-3.199959405302252 -58.268065761525634,-3.2142737767133553 -58.315918138111556,-3.2118449848580894 -58.38015194365721,-3.2022331684259484 -58.45257646323313,-3.1815109187938333 -58.54931474427997,-3.205230401062124 -58.64225480791299,-3.3039840637135285 -58.68904781730288,-3.3423279757554383 -58.80511308490088,-3.3470822075777846 -58.88993994797016,-3.3226392557969575 -58.98220821803477,-3.270549411326215 -59.09134884257497,-3.2389234349685125 -59.21733598496769,-3.227761325824474 -59.381460333827306,-3.1842497699108776 -59.58364437478804,-3.10859547280279 -59.735443895419394,-3.077899672431897 -59.836833055501074,-3.0921623669996166 -59.89682939316191,-3.1276124000921186 -59.905640224816466,-3.1713823384241095 -59.924502122474905,-3.2059538714739233 -59.957497524391215,-3.237373142256672 -60.10503373871603,-3.305637709212874 -60.2031156068997,-3.3252230772831695 -60.27902828642624,-3.3020720348964687 -60.41059648294129,-3.299849948616213 -60.59776852050078,-3.3185568175430262 -60.74698421874666,-3.398086846430772 -60.85819190083549,-3.538336683391151 -61.03593299001545,-3.6103736302388256 -61.28015580944299,-3.6140943332868005 -61.46753455257749,-3.6760026997647515 -61.59806922031822,-3.7963054334489357 -61.7170283677649,-3.8830184869136133 -61.82441199401825,-3.936141859259351 -61.89265072255279,-3.9467872044658634 -62.01122229637184,-3.895730889668755 -62.27740759978087,-3.761785577242563 -62.36737626830012,-3.718067314854636 -62.39336951369205,-3.716361993411226 -62.42349687328203,-3.7305213351914404 -62.4494384427299,-3.801938165314027 -62.54312781429718,-3.8510824521933387 -62.70456498888308,-3.8780575495162566 -62.86290157714603,-3.938312269595542 -63.01813757998531,-4.0319499652187005 -63.09678910972957,-4.078458753768416 -63.152237922042445,-4.071534112509255 -63.177275153025846,-4.03515390342983 -63.21634253637893,-3.9744857722005804 -63.28292761941407,-3.9229126925666833 -63.449584112916455,-3.8709262017827655 -63.57321997781969,-3.853872979254561 -63.65380937390347,-3.871856377769575 -63.74744706862725,-3.8683940571399944 -63.85421057815563,-3.843434339623002 -64.03549150233096,-3.7645761043037282 -64.29128984205255,-3.631871026226804 -64.45830807166016,-3.523660576774148 -64.57561357270816,-3.398190199218277 -64.79027747242736,-3.222386976377834 -64.90505082883266,-3.12843922239216 -65.06974361847318,-2.9705160461785454 -65.17950436063768,-2.834503676203667 -65.28779232445618,-2.746757093964675 -65.39463334835028,-2.7072762994616255 -65.45868628584338,-2.6634546851855134 -65.47997697625641,-2.615498955812086 -65.55818925642899,-2.594311619085886 -65.76096757659235,-2.6029932595312744 -65.90057145840603,-2.4930774877358317 -65.97733679865428,-2.466154066357035 -66.03774654836445,-2.485481052008879 -66.09624426925757,-2.477419529187898 -66.15277828628882,-2.441866143307834 -66.21031999367273,-2.4599528946103533 -66.26892106825267,-2.5316797830954556 -66.33395585767664,-2.5367440732803175 -66.40539852532163,-2.475145766064202 -66.47100175642589,-2.4390756162466687 -66.53073971256765,-2.4285336238276045 -66.57254594613846,-2.4781429987003776 -66.59644629556004,-2.587903740864874 -66.64099138024795,-2.6591655413566286 -66.7061812002022,-2.6918250464886455 -66.80069739406946,-2.714510999982622 -66.9245399645477,-2.7273267555253256 -67.0769596019041,-2.695442396749172 -67.25798214366097,-2.618806247710097 -67.38402096199775,-2.6228370091206443 -67.45512773285856,-2.7073796522491307 -67.57240739638422,-2.7791582166782973 -67.73588579009709,-2.838224379251642 -67.84631832583005,-2.92783131256499 -67.93238542324866,-3.10802703202188 -67.92652014828616,-3.223265476420579 -67.94569210430711,-3.2831067844504673 -67.98786007308388,-3.325946546795649 -68.09457190576882,-3.333904717728501 -68.26582760236192,-3.306877943562199 -68.5957041080581,-3.345376885234998 -69.08417558443563,-3.4493498677022103 -69.35185950371306,-3.552702731645695 -69.39878170431217,-3.6554354797635256 -69.41627417641206,-3.7640593403662024 -69.40438859685622,-3.8785226375096613 -69.42498165527911,-3.97350392026965 -69.4780016748374,-4.049054863690969 -69.48094723152946,-4.111428318162325 -69.4337408109896,-4.160624280985758 -69.458778041973,-4.223101088244562 -69.55603308785669,-4.29880706129677 -69.68527584530398,-4.33467050553935 -69.8465063134156,-4.330536390442035 -69.94810217997161,-4.285164483454082 -69.96593054885568,-4.23596851973133 -70.0171935692278,-4.1619678690219075 -70.09475989425368,-4.092153008454545 -70.1675203115131,-4.05024342209623 -70.19839697903734,-3.9951563449892546 -70.24028072787326,-3.8827084285510978 -70.29844255198213,-3.844261162822363 -70.33949947761874,-3.8143405088073905 -70.3791869776968,-3.8187330054238373 -70.42109656405512,-3.8496355122690034 -70.48584713443768,-3.869375909070925 -70.52966874871373,-3.8663786755353726 -70.55736731644845,-3.87004770263934 -70.90047298883735,-3.960068048001972 -71.05793107795682,-3.9853894998254873 -71.13802954762548,-3.963427015844047 -71.19327165436334,-3.902758884614798 -71.28331783724838,-3.8689624979209043 -71.4081680971799,-3.862244561337377 -71.52139116087335,-3.8263811170948543 -71.62298702652998,-3.7614755179807275 -71.68866777200003,-3.6499061006859392 -71.71843339728343,-3.4916728652104894 -71.75197140155888,-3.394779554532761 -71.7893851385133,-3.3592261695520165 -71.91397701692574,-3.3837207981762276 -72.12577287431867,-3.4684701468797243 -72.29271358956049,-3.5034034151354376 -72.47585486481012,-3.481027520003977 -72.7467944000415,-3.456739596954776 -72.89050655763151,-3.467023206955389 -72.9973217431039,-3.503713474397273 -73.09369828984416,-3.562262872133772 -73.17961035853119,-3.642568047377438 -73.21136552609812,-3.782972913968763 -73.18898963096666,-3.9835808246952524 -73.19224524602123,-4.099232680243972 -73.22118404810527,-4.13003183340237 -73.26846798391028,-4.135922946786536 -73.33399369974939,-4.116906019497151 -73.36567135295053,-4.13251230210102 -73.3635009426144,-4.182638441810582 -73.3854117497524,-4.230852552703084 -73.43145545120808,-4.2771029597337815 -73.46302975162172,-4.336324151038696 -73.48863542338603,-4.444844658853867\" opacity=\"0.8\" /></g></svg>"
          },
          "metadata": {},
          "execution_count": 59
        }
      ]
    },
    {
      "cell_type": "code",
      "source": [
        "#vedere tutti gli stati che passano su questo fiume\n",
        "cittaPassate = countries[countries.crosses(amazon)].plot()"
      ],
      "metadata": {
        "colab": {
          "base_uri": "https://localhost:8080/",
          "height": 265
        },
        "id": "RggVVmDBZugz",
        "outputId": "ef3daa4f-1b15-4454-a05d-a4b1a7f41f0e"
      },
      "execution_count": null,
      "outputs": [
        {
          "output_type": "display_data",
          "data": {
            "text/plain": [
              "<Figure size 432x288 with 1 Axes>"
            ],
            "image/png": "[encoded data removed]"
          },
          "metadata": {
            "needs_background": "light"
          }
        }
      ]
    },
    {
      "cell_type": "code",
      "source": [
        "#far vedere il fiume"
      ],
      "metadata": {
        "id": "2YwZ8cdDaGik"
      },
      "execution_count": null,
      "outputs": []
    },
    {
      "cell_type": "code",
      "source": [
        "ax = countries[countries.crosses(amazon)].plot(figsize=(12,12))\n",
        "amazon2 = rivers[rivers['name'] == 'Amazonas']\n",
        "amazon2.plot(ax=ax,color = \"White\",linewidth = 6) # linewidth aumenta la larghezza del fiume"
      ],
      "metadata": {
        "colab": {
          "base_uri": "https://localhost:8080/",
          "height": 717
        },
        "id": "JY19D4lcaISd",
        "outputId": "e48bc64e-2998-4f32-f67a-ac42a8930f8f"
      },
      "execution_count": null,
      "outputs": [
        {
          "output_type": "execute_result",
          "data": {
            "text/plain": [
              "<matplotlib.axes._subplots.AxesSubplot at 0x7f7a9ae04670>"
            ]
          },
          "metadata": {},
          "execution_count": 57
        },
        {
          "output_type": "display_data",
          "data": {
            "text/plain": [
              "<Figure size 864x864 with 1 Axes>"
            ],
            "image/png": "[encoded data removed]"
          },
          "metadata": {
            "needs_background": "light"
          }
        }
      ]
    }
  ]
}